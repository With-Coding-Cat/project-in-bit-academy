{
 "cells": [
  {
   "cell_type": "code",
   "execution_count": 19,
   "metadata": {},
   "outputs": [],
   "source": [
    "from PIL import Image\n",
    "import numpy as np \n",
    "\n",
    "def taxi_img(img):\n",
    "    gray = img.convert('L')\n",
    "    bw = gray.point(lambda x: 0 if x<128 else 255, '1')\n",
    "    img = bw.convert('RGBA')\n",
    "    pixdata = img.load()\n",
    "    for y in range(img.size[1]):\n",
    "        for x in range(img.size[0]):\n",
    "            if pixdata[x, y] == (255, 255, 255, 255): # 흰색을\n",
    "                pixdata[x, y] = (255,187,0,255)       # 노랑색으로\n",
    "    return img\n",
    "\n",
    "def old_img(img):\n",
    "    gray = img.convert('L')\n",
    "    bw = gray.point(lambda x: 0 if x<128 else 255, '1')\n",
    "    img = bw.convert('RGBA')\n",
    "    pixdata = img.load()\n",
    "    for y in range(img.size[1]):\n",
    "        for x in range(img.size[0]):\n",
    "            if pixdata[x, y] == (255, 255, 255, 255):  # 흰색을\n",
    "                pixdata[x, y] = (0,105,0,255)          # 초록으로\n",
    "                \n",
    "            if pixdata[x, y] == (0, 0, 0, 255):       # 검정을\n",
    "                pixdata[x, y] = (255, 255, 255, 255)  # 흰색으로\n",
    "    return img"
   ]
  },
  {
   "cell_type": "code",
   "execution_count": 20,
   "metadata": {},
   "outputs": [],
   "source": [
    "im = Image.open('C09sa1223.jpg')   # 사진 이름\n",
    "\n",
    "bg_fps = taxi_img(im)\n",
    "bg_fps.show()\n",
    "bg_fps.save(\"test1.png\",'PNG')"
   ]
  },
  {
   "cell_type": "code",
   "execution_count": 21,
   "metadata": {},
   "outputs": [],
   "source": [
    "bg_fps = old_img(im)\n",
    "bg_fps.show()\n",
    "bg_fps.save(\"test2.png\",'PNG')"
   ]
  },
  {
   "cell_type": "code",
   "execution_count": null,
   "metadata": {},
   "outputs": [],
   "source": []
  }
 ],
 "metadata": {
  "kernelspec": {
   "display_name": "Python 3",
   "language": "python",
   "name": "python3"
  },
  "language_info": {
   "codemirror_mode": {
    "name": "ipython",
    "version": 3
   },
   "file_extension": ".py",
   "mimetype": "text/x-python",
   "name": "python",
   "nbconvert_exporter": "python",
   "pygments_lexer": "ipython3",
   "version": "3.8.5"
  }
 },
 "nbformat": 4,
 "nbformat_minor": 4
}
