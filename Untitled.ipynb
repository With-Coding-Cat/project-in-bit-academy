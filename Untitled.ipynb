{
 "cells": [
  {
   "cell_type": "code",
   "execution_count": 1,
   "id": "suburban-denver",
   "metadata": {},
   "outputs": [],
   "source": [
    "import pymongo\n",
    "from pymongo import MongoClient\n",
    "\n",
    "# client = MongoClient()"
   ]
  },
  {
   "cell_type": "code",
   "execution_count": 3,
   "id": "immune-billy",
   "metadata": {},
   "outputs": [],
   "source": [
    "# db = client.test_database  # Database 생성"
   ]
  },
  {
   "cell_type": "code",
   "execution_count": 6,
   "id": "atmospheric-feeling",
   "metadata": {},
   "outputs": [],
   "source": [
    "# db = client[\"car_database\"]  # Database 이름/연결"
   ]
  },
  {
   "cell_type": "code",
   "execution_count": 7,
   "id": "challenging-charge",
   "metadata": {},
   "outputs": [],
   "source": [
    "# collection = db.test_collection  # collection 생성"
   ]
  },
  {
   "cell_type": "code",
   "execution_count": 8,
   "id": "several-specific",
   "metadata": {},
   "outputs": [],
   "source": [
    "# collection = db[\"collection_1\"]  # collection 이름/연결"
   ]
  },
  {
   "cell_type": "code",
   "execution_count": 9,
   "id": "julian-closure",
   "metadata": {},
   "outputs": [
    {
     "name": "stderr",
     "output_type": "stream",
     "text": [
      "<ipython-input-9-2c3e86df8f93>:1: DeprecationWarning: insert is deprecated. Use insert_one or insert_many instead.\n",
      "  collection.insert({\"original video\":'video_source',\n"
     ]
    },
    {
     "data": {
      "text/plain": [
       "ObjectId('60517f6792a2651bf21bf5d9')"
      ]
     },
     "execution_count": 9,
     "metadata": {},
     "output_type": "execute_result"
    }
   ],
   "source": [
    "# collection.insert({\"original video\":'video_source',\n",
    "#                   \"detected video\":'video source',\n",
    "#                   \"image\":'image source',\n",
    "#                   \"time\":'time',\n",
    "#                   \"car license plate\":'plate'})"
   ]
  },
  {
   "cell_type": "code",
   "execution_count": 10,
   "id": "twelve-polyester",
   "metadata": {},
   "outputs": [],
   "source": [
    "# collection = db[\"collection_2\"]  # collection 연결"
   ]
  },
  {
   "cell_type": "code",
   "execution_count": 11,
   "id": "certain-software",
   "metadata": {},
   "outputs": [
    {
     "name": "stderr",
     "output_type": "stream",
     "text": [
      "<ipython-input-11-551ed7800208>:1: DeprecationWarning: insert is deprecated. Use insert_one or insert_many instead.\n",
      "  collection.insert({\"plate tracking\":'plate'})\n"
     ]
    },
    {
     "data": {
      "text/plain": [
       "ObjectId('60517fe492a2651bf21bf5da')"
      ]
     },
     "execution_count": 11,
     "metadata": {},
     "output_type": "execute_result"
    }
   ],
   "source": [
    "# collection.insert({\"plate tracking\":'plate'})"
   ]
  },
  {
   "cell_type": "code",
   "execution_count": 18,
   "id": "bearing-proportion",
   "metadata": {},
   "outputs": [
    {
     "name": "stdout",
     "output_type": "stream",
     "text": [
      "가나다1\n"
     ]
    }
   ],
   "source": [
    "def test(*num):\n",
    "    for i in \n",
    "    abc = \"가나다{}\".format(*num)\n",
    "    return abc\n",
    "\n",
    "print(test(1, 2, 3, 4, 5))\n",
    "\n",
    "# 사용자 정의 함수의 다중입력 문제\n",
    "# 다중입력을 하나씩 여러 열로 출력 가능?"
   ]
  },
  {
   "cell_type": "code",
   "execution_count": 13,
   "id": "recorded-zimbabwe",
   "metadata": {},
   "outputs": [],
   "source": [
    "video1 = 'abc' \n",
    "video2 = 'def' \n",
    "image = 'ghi' \n",
    "time = 'jkl' \n",
    "plate1 = 'mno' \n",
    "plate2 = 'pqr'"
   ]
  },
  {
   "cell_type": "code",
   "execution_count": 20,
   "id": "sweet-deviation",
   "metadata": {},
   "outputs": [
    {
     "name": "stdout",
     "output_type": "stream",
     "text": [
      "<class 'str'>\n"
     ]
    }
   ],
   "source": [
    "a = \"10:22\"\n",
    "print(type(a))"
   ]
  },
  {
   "cell_type": "code",
   "execution_count": 36,
   "id": "stopped-camera",
   "metadata": {},
   "outputs": [],
   "source": [
    "def Createmongodb(database_name, collection_name):\n",
    "    client = MongoClient()\n",
    "    \n",
    "    db = client.database_name\n",
    "    db = client['{}'.format(database_name)]\n",
    "    collection = db.collection_name\n",
    "    collection = db['{}'.format(collection_name)]"
   ]
  },
  {
   "cell_type": "code",
   "execution_count": 37,
   "id": "blessed-cooperation",
   "metadata": {},
   "outputs": [
    {
     "ename": "InvalidName",
     "evalue": "database names cannot contain the character ' '",
     "output_type": "error",
     "traceback": [
      "\u001b[1;31m---------------------------------------------------------------------------\u001b[0m",
      "\u001b[1;31mInvalidName\u001b[0m                               Traceback (most recent call last)",
      "\u001b[1;32m<ipython-input-37-bd6c462ddc83>\u001b[0m in \u001b[0;36m<module>\u001b[1;34m\u001b[0m\n\u001b[1;32m----> 1\u001b[1;33m \u001b[0mCreatemongodb\u001b[0m\u001b[1;33m(\u001b[0m\u001b[0mtest\u001b[0m\u001b[1;33m,\u001b[0m \u001b[0mtest\u001b[0m\u001b[1;33m)\u001b[0m\u001b[1;33m\u001b[0m\u001b[1;33m\u001b[0m\u001b[0m\n\u001b[0m",
      "\u001b[1;32m<ipython-input-36-1ebd575ebbab>\u001b[0m in \u001b[0;36mCreatemongodb\u001b[1;34m(database_name, collection_name)\u001b[0m\n\u001b[0;32m      3\u001b[0m \u001b[1;33m\u001b[0m\u001b[0m\n\u001b[0;32m      4\u001b[0m     \u001b[0mdb\u001b[0m \u001b[1;33m=\u001b[0m \u001b[0mclient\u001b[0m\u001b[1;33m.\u001b[0m\u001b[0mdatabase_name\u001b[0m\u001b[1;33m\u001b[0m\u001b[1;33m\u001b[0m\u001b[0m\n\u001b[1;32m----> 5\u001b[1;33m     \u001b[0mdb\u001b[0m \u001b[1;33m=\u001b[0m \u001b[0mclient\u001b[0m\u001b[1;33m[\u001b[0m\u001b[1;34m'{}'\u001b[0m\u001b[1;33m.\u001b[0m\u001b[0mformat\u001b[0m\u001b[1;33m(\u001b[0m\u001b[0mdatabase_name\u001b[0m\u001b[1;33m)\u001b[0m\u001b[1;33m]\u001b[0m\u001b[1;33m\u001b[0m\u001b[1;33m\u001b[0m\u001b[0m\n\u001b[0m\u001b[0;32m      6\u001b[0m     \u001b[0mcollection\u001b[0m \u001b[1;33m=\u001b[0m \u001b[0mdb\u001b[0m\u001b[1;33m.\u001b[0m\u001b[0mcollection_name\u001b[0m\u001b[1;33m\u001b[0m\u001b[1;33m\u001b[0m\u001b[0m\n\u001b[0;32m      7\u001b[0m     \u001b[0mcollection\u001b[0m \u001b[1;33m=\u001b[0m \u001b[0mdb\u001b[0m\u001b[1;33m[\u001b[0m\u001b[1;34m'{}'\u001b[0m\u001b[1;33m.\u001b[0m\u001b[0mformat\u001b[0m\u001b[1;33m(\u001b[0m\u001b[0mcollection_name\u001b[0m\u001b[1;33m)\u001b[0m\u001b[1;33m]\u001b[0m\u001b[1;33m\u001b[0m\u001b[1;33m\u001b[0m\u001b[0m\n",
      "\u001b[1;32m~\\anaconda3\\envs\\project\\lib\\site-packages\\pymongo\\mongo_client.py\u001b[0m in \u001b[0;36m__getitem__\u001b[1;34m(self, name)\u001b[0m\n\u001b[0;32m   1567\u001b[0m           \u001b[1;33m-\u001b[0m\u001b[0;31m \u001b[0m\u001b[0;31m`\u001b[0m\u001b[0mname\u001b[0m\u001b[0;31m`\u001b[0m\u001b[1;33m:\u001b[0m \u001b[0mthe\u001b[0m \u001b[0mname\u001b[0m \u001b[0mof\u001b[0m \u001b[0mthe\u001b[0m \u001b[0mdatabase\u001b[0m \u001b[0mto\u001b[0m \u001b[0mget\u001b[0m\u001b[1;33m\u001b[0m\u001b[1;33m\u001b[0m\u001b[0m\n\u001b[0;32m   1568\u001b[0m         \"\"\"\n\u001b[1;32m-> 1569\u001b[1;33m         \u001b[1;32mreturn\u001b[0m \u001b[0mdatabase\u001b[0m\u001b[1;33m.\u001b[0m\u001b[0mDatabase\u001b[0m\u001b[1;33m(\u001b[0m\u001b[0mself\u001b[0m\u001b[1;33m,\u001b[0m \u001b[0mname\u001b[0m\u001b[1;33m)\u001b[0m\u001b[1;33m\u001b[0m\u001b[1;33m\u001b[0m\u001b[0m\n\u001b[0m\u001b[0;32m   1570\u001b[0m \u001b[1;33m\u001b[0m\u001b[0m\n\u001b[0;32m   1571\u001b[0m     \u001b[1;32mdef\u001b[0m \u001b[0mclose_cursor\u001b[0m\u001b[1;33m(\u001b[0m\u001b[0mself\u001b[0m\u001b[1;33m,\u001b[0m \u001b[0mcursor_id\u001b[0m\u001b[1;33m,\u001b[0m \u001b[0maddress\u001b[0m\u001b[1;33m=\u001b[0m\u001b[1;32mNone\u001b[0m\u001b[1;33m)\u001b[0m\u001b[1;33m:\u001b[0m\u001b[1;33m\u001b[0m\u001b[1;33m\u001b[0m\u001b[0m\n",
      "\u001b[1;32m~\\anaconda3\\envs\\project\\lib\\site-packages\\pymongo\\database.py\u001b[0m in \u001b[0;36m__init__\u001b[1;34m(self, client, name, codec_options, read_preference, write_concern, read_concern)\u001b[0m\n\u001b[0;32m    109\u001b[0m \u001b[1;33m\u001b[0m\u001b[0m\n\u001b[0;32m    110\u001b[0m         \u001b[1;32mif\u001b[0m \u001b[0mname\u001b[0m \u001b[1;33m!=\u001b[0m \u001b[1;34m'$external'\u001b[0m\u001b[1;33m:\u001b[0m\u001b[1;33m\u001b[0m\u001b[1;33m\u001b[0m\u001b[0m\n\u001b[1;32m--> 111\u001b[1;33m             \u001b[0m_check_name\u001b[0m\u001b[1;33m(\u001b[0m\u001b[0mname\u001b[0m\u001b[1;33m)\u001b[0m\u001b[1;33m\u001b[0m\u001b[1;33m\u001b[0m\u001b[0m\n\u001b[0m\u001b[0;32m    112\u001b[0m \u001b[1;33m\u001b[0m\u001b[0m\n\u001b[0;32m    113\u001b[0m         \u001b[0mself\u001b[0m\u001b[1;33m.\u001b[0m\u001b[0m__name\u001b[0m \u001b[1;33m=\u001b[0m \u001b[0m_unicode\u001b[0m\u001b[1;33m(\u001b[0m\u001b[0mname\u001b[0m\u001b[1;33m)\u001b[0m\u001b[1;33m\u001b[0m\u001b[1;33m\u001b[0m\u001b[0m\n",
      "\u001b[1;32m~\\anaconda3\\envs\\project\\lib\\site-packages\\pymongo\\database.py\u001b[0m in \u001b[0;36m_check_name\u001b[1;34m(name)\u001b[0m\n\u001b[0;32m     49\u001b[0m     \u001b[1;32mfor\u001b[0m \u001b[0minvalid_char\u001b[0m \u001b[1;32min\u001b[0m \u001b[1;33m[\u001b[0m\u001b[1;34m' '\u001b[0m\u001b[1;33m,\u001b[0m \u001b[1;34m'.'\u001b[0m\u001b[1;33m,\u001b[0m \u001b[1;34m'$'\u001b[0m\u001b[1;33m,\u001b[0m \u001b[1;34m'/'\u001b[0m\u001b[1;33m,\u001b[0m \u001b[1;34m'\\\\'\u001b[0m\u001b[1;33m,\u001b[0m \u001b[1;34m'\\x00'\u001b[0m\u001b[1;33m,\u001b[0m \u001b[1;34m'\"'\u001b[0m\u001b[1;33m]\u001b[0m\u001b[1;33m:\u001b[0m\u001b[1;33m\u001b[0m\u001b[1;33m\u001b[0m\u001b[0m\n\u001b[0;32m     50\u001b[0m         \u001b[1;32mif\u001b[0m \u001b[0minvalid_char\u001b[0m \u001b[1;32min\u001b[0m \u001b[0mname\u001b[0m\u001b[1;33m:\u001b[0m\u001b[1;33m\u001b[0m\u001b[1;33m\u001b[0m\u001b[0m\n\u001b[1;32m---> 51\u001b[1;33m             raise InvalidName(\"database names cannot contain the \"\n\u001b[0m\u001b[0;32m     52\u001b[0m                               \"character %r\" % invalid_char)\n\u001b[0;32m     53\u001b[0m \u001b[1;33m\u001b[0m\u001b[0m\n",
      "\u001b[1;31mInvalidName\u001b[0m: database names cannot contain the character ' '"
     ]
    }
   ],
   "source": [
    "Createmongodb(test, test)"
   ]
  },
  {
   "cell_type": "code",
   "execution_count": 40,
   "id": "applicable-pipeline",
   "metadata": {},
   "outputs": [],
   "source": [
    "def MongoDB(video1, video2, image, time, plate1, plate2):\n",
    "    \n",
    "    db = client['car_database']\n",
    "    \n",
    "    collection = db[\"collection_1\"]\n",
    "    \n",
    "    collection.insert({\"original video\":\"{}\".format(video1),\n",
    "                  \"detected video\":\"{}\".format(video2),\n",
    "                  \"image\":\"{}\".format(image),\n",
    "                  \"time\":\"{}\".format(time),\n",
    "                  \"car license plate\":\"{}\".format(plate1)})"
   ]
  },
  {
   "cell_type": "code",
   "execution_count": null,
   "id": "median-weight",
   "metadata": {},
   "outputs": [],
   "source": [
    "MongoDB(klasdjflkjwiehf)\n",
    "MongoDB(sadjfhas)"
   ]
  },
  {
   "cell_type": "code",
   "execution_count": 41,
   "id": "endless-reserve",
   "metadata": {},
   "outputs": [
    {
     "name": "stderr",
     "output_type": "stream",
     "text": [
      "<ipython-input-40-6edb9a9139be>:7: DeprecationWarning: insert is deprecated. Use insert_one or insert_many instead.\n",
      "  collection.insert({\"original video\":\"{}\".format(video1),\n"
     ]
    }
   ],
   "source": [
    "MongoDB ('abc', 'def', 'ghi', 'jkl', 'mno','pqr')"
   ]
  },
  {
   "cell_type": "code",
   "execution_count": 42,
   "id": "miniature-sender",
   "metadata": {},
   "outputs": [],
   "source": [
    "def TrackingDB(plate_input, plate_yolo):\n",
    "    \n",
    "    db = client['car_database']    # 데이터베이스 연결\n",
    "    collection = db[\"collection_1\"]   # collection 연결\n",
    "    \n",
    "    db.collection_1.find({\"car license plate\":\"{}\".format(plate_input)})   # db에서 입력한 번호판값 가져옴\n",
    "    \n",
    "    if (plate_yolo == plate_input):     # db에서 가져온 번호판과 yolo 번호판 비교\n",
    "        print(\"True\")\n",
    "        collection = db[\"collection_2\"]\n",
    "#        db.getCollection('collection_1').find({_id:ObjectId('{}'.format())})\n",
    "        collection.insert({\"car license plate\":\"{}\".format(plate_input)})    # (혹시 몰라 추가한 것) 동일한 번호판일 시 다른 컬렉션에 번호판 저장\n",
    "    else:\n",
    "        print(\"Incorrect\")"
   ]
  },
  {
   "cell_type": "code",
   "execution_count": 43,
   "id": "narrative-public",
   "metadata": {},
   "outputs": [
    {
     "name": "stdout",
     "output_type": "stream",
     "text": [
      "True\n"
     ]
    },
    {
     "name": "stderr",
     "output_type": "stream",
     "text": [
      "<ipython-input-42-93746369526c>:11: DeprecationWarning: insert is deprecated. Use insert_one or insert_many instead.\n",
      "  collection.insert({\"car license plate\":\"{}\".format(plate_input)})\n"
     ]
    }
   ],
   "source": [
    "TrackingDB('pqr', 'pqr')"
   ]
  },
  {
   "cell_type": "code",
   "execution_count": null,
   "id": "minimal-deployment",
   "metadata": {},
   "outputs": [],
   "source": [
    "    "
   ]
  }
 ],
 "metadata": {
  "kernelspec": {
   "display_name": "Python 3",
   "language": "python",
   "name": "python3"
  },
  "language_info": {
   "codemirror_mode": {
    "name": "ipython",
    "version": 3
   },
   "file_extension": ".py",
   "mimetype": "text/x-python",
   "name": "python",
   "nbconvert_exporter": "python",
   "pygments_lexer": "ipython3",
   "version": "3.8.8"
  }
 },
 "nbformat": 4,
 "nbformat_minor": 5
}
