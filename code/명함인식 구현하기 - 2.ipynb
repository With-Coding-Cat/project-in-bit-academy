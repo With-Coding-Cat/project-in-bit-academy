{
 "cells": [
  {
   "cell_type": "code",
   "execution_count": 30,
   "id": "capable-intro",
   "metadata": {},
   "outputs": [],
   "source": [
    "import numpy as np\n",
    "import cv2 as cv"
   ]
  },
  {
   "cell_type": "code",
   "execution_count": 31,
   "id": "false-ocean",
   "metadata": {},
   "outputs": [],
   "source": [
    "image = cv.imread('car.jpg')\n",
    "orig = image.copy()   # 원본 이미지 복사"
   ]
  },
  {
   "cell_type": "code",
   "execution_count": 54,
   "id": "criminal-australian",
   "metadata": {},
   "outputs": [
    {
     "name": "stdout",
     "output_type": "stream",
     "text": [
      "STEP 1: Edged Detection\n"
     ]
    }
   ],
   "source": [
    "# Edge Detection\n",
    "\n",
    "r = 800.0 / image.shape[0]\n",
    "dim = (int(image.shape[1] * r), 800) \n",
    "image = cv.resize(image, dim, interpolation = cv.INTER_AREA)  # 이미지를 resize\n",
    "\n",
    "gray = cv.cvtColor(image, cv.COLOR_BGR2GRAY)  # 이미지의 색공간을 BGR에서 Gray로 바꿈\n",
    "gray = cv.GaussianBlur(gray, (3, 3), 0)   #GaussianBlur를 통해 blur 효과를 줌, 외관 검출을 더 쉽게 함\n",
    "edged = cv.Canny(gray, 75, 200)  # Canny Edge Detection을 통해서 edge를 검출하게 됨\n",
    "\n",
    "print(\"STEP 1: Edged Detection\")  # 엣지가 검출된 이미지를 출력\n",
    "\n",
    "cv.namedWindow('Image', cv.WINDOW_NORMAL)  # 윈도우 사이즈 지정\n",
    "cv.namedWindow('Edged', cv.WINDOW_NORMAL)  # 윈도우 사이즈 지정\n",
    "cv.imshow('Image', image)\n",
    "cv.imshow('Edged', edged)\n",
    "\n",
    "cv.waitKey(0)\n",
    "cv.destroyAllWindows()"
   ]
  },
  {
   "cell_type": "code",
   "execution_count": 65,
   "id": "expressed-warren",
   "metadata": {},
   "outputs": [
    {
     "name": "stdout",
     "output_type": "stream",
     "text": [
      "STEP 2: Find Contours of Paper\n"
     ]
    }
   ],
   "source": [
    "import cv2 as cv\n",
    "\n",
    "(cnts, _) = cv.findContours(edged.copy(), cv.RETR_LIST, cv.CHAIN_APPROX_SIMPLE)\n",
    "    \n",
    "cnts = sorted(cnts, key = cv.contourArea, reverse = True)\n",
    "\n",
    "screenCnt = None\n",
    "    \n",
    "for c in cnts:\n",
    "    for i in range(1, 10000):\n",
    "        peri = cv.arcLength(c, True)\n",
    "        approx = cv.approxPolyDP(c, (0.00001 * i) * peri, True)\n",
    "    \n",
    "    if len(approx) == 4:\n",
    "        screenCnt = approx\n",
    "        break\n",
    "            \n",
    "print(\"STEP 2: Find Contours of Paper\")\n",
    "cv.drawContours(image, [screenCnt], -1, (0, 255, 0), 2)\n",
    "cv.imshow(\"Outline\", image)    \n",
    "        \n",
    "cv.waitKey(0)\n",
    "cv.destroyAllWindows()"
   ]
  },
  {
   "cell_type": "code",
   "execution_count": 14,
   "id": "first-millennium",
   "metadata": {},
   "outputs": [],
   "source": [
    "import cv2 as cv\n",
    "\n",
    "(cnts, _) = cv.findContours(edged.copy(), cv.RETR_LIST, cv.CHAIN_APPROX_SIMPLE)\n",
    "    \n",
    "cnts = sorted(cnts, key = cv.contourArea, reverse = True)[:5]\n",
    "    \n",
    "    \n",
    "for c in cnts:\n",
    "    peri = cv.arcLength(c, True)\n",
    "    approx = cv.approxPolyDP(c, peri, True)\n",
    "\n",
    "    if len(approx) == 4:\n",
    "        screenCnt = approx\n",
    "        break\n",
    "\n",
    "    if screenCnt is None:\n",
    "        detected = 0\n",
    "        print (\"No plate detected\")\n",
    "    else:\n",
    "        detected = 1\n",
    "    \n"
   ]
  },
  {
   "cell_type": "code",
   "execution_count": null,
   "id": "isolated-recruitment",
   "metadata": {},
   "outputs": [],
   "source": [
    "def order_points(pts):\n",
    "    rect = np.zeros((4, 2), dtype = \"float32\")\n",
    "    \n",
    "    s = pts.sum(axis = 1)\n",
    "    rect[0] = pts[np.argmin(s)]\n",
    "    rect[2] = pts[np.argmax(s)]\n",
    "    \n",
    "    diff = np.diff(pts, axis = 1)\n",
    "    rect[1] = pts[np.argmin(diff)]\n",
    "    rect[3] = pts[np.argmax(diff)]\n",
    "    \n",
    "    return rect"
   ]
  },
  {
   "cell_type": "code",
   "execution_count": null,
   "id": "catholic-quantity",
   "metadata": {},
   "outputs": [],
   "source": [
    "rect = order_points(screenCnt.reshape(4, 2) / r)\n",
    "    \n",
    "(topLeft, topRight, bottomRight, bottomLeft) = rect\n",
    "    \n",
    "w1 = abs(bottomRight[0] - bottomLeft[0])\n",
    "w2 = abs(topRight[0] - topLeft[0])\n",
    "h1 = abs(topRight[0] - bottomRight[1])\n",
    "h2 = abs(topLeft[1] - bottomLeft[1])\n",
    "    \n",
    "maxWidth = max([w1, w2])\n",
    "maxHeight = max([h1, h2])\n",
    "    \n",
    "dst = np.float32([[0, 0], [maxWidth-1, 0], [maxWidth-1, maxHeight-1], [0, maxHeight-1]])\n",
    "    \n",
    "M = cv.getPerspectiveTransform(rect, dst)\n",
    "    \n",
    "warped = cv.warpPerspective(orig, M, (maxWidth, maxHeight))\n",
    "    \n",
    "print(\"STEP 3: Apply perspective transform\")\n",
    "cv.imshow(\"Warped\", warped)\n",
    "    \n",
    "cv.waitKey(0)\n",
    "cv.destroyAllWindows()"
   ]
  },
  {
   "cell_type": "code",
   "execution_count": null,
   "id": "bearing-quarterly",
   "metadata": {},
   "outputs": [],
   "source": []
  },
  {
   "cell_type": "code",
   "execution_count": null,
   "id": "powered-evening",
   "metadata": {},
   "outputs": [],
   "source": []
  },
  {
   "cell_type": "code",
   "execution_count": null,
   "id": "bacterial-circus",
   "metadata": {},
   "outputs": [],
   "source": []
  },
  {
   "cell_type": "code",
   "execution_count": null,
   "id": "christian-budget",
   "metadata": {},
   "outputs": [],
   "source": []
  },
  {
   "cell_type": "code",
   "execution_count": null,
   "id": "necessary-patent",
   "metadata": {},
   "outputs": [],
   "source": [
    "# import numpy as np\n",
    "# import cv2 as cv\n",
    "\n",
    "# def order_points(pts):\n",
    "#     rect = np.zeros((4, 2), dtype = \"float32\")\n",
    "    \n",
    "#     s = pts.sum(axis = 1)\n",
    "#     rect[0] = pts[np.argmin(s)]\n",
    "#     rect[2] = pts[np.argmax(s)]\n",
    "    \n",
    "#     diff = np.diff(pts, axis = 1)\n",
    "#     rect[1] = pts[np.argmin(diff)]\n",
    "#     rect[3] = pts[np.argmax(diff)]\n",
    "    \n",
    "#     return rect\n",
    "\n",
    "# def auto_scan_image():\n",
    "#     image = cv.imread(\"opencv_test.jpg\")\n",
    "#     orig = image.copy()   # 원본 이미지 복사\n",
    "    \n",
    "#     r = 800.0 / image.shape[0]\n",
    "#     dim = (int(image.shape[1] * r), 800) \n",
    "#     image = cv.resize(image, dim, interpolation = cv.INTER_AREA)  # 이미지를 resize\n",
    "\n",
    "#     gray = cv.cvtColor(image, cv2.COLOR_BGR2GRAY)  # 이미지의 색공간을 BGR에서 Gray로 바꿈\n",
    "#     gray = cv.GaussianBlur(gray, (3, 3), 0)   #GaussianBlur를 통해 blur 효과를 줌, 외관 검출을 더 쉽게 함\n",
    "#     edged = cv.Canny(gray, 75, 200)  # Canny Edge Detection을 통해서 edge를 검출하게 됨\n",
    "\n",
    "#     print(\"STEP 1: Edged Detection\")  # 엣지가 검출된 이미지를 출력\n",
    "\n",
    "#     cv.namedWindow('Image', cv2.WINDOW_NORMAL)  # 윈도우 사이즈 지정\n",
    "#     cv.namedWindow('Edged', cv2.WINDOW_NORMAL)  # 윈도우 사이즈 지정\n",
    "#     cv.imshow('Image', image)\n",
    "#     cv.imshow('Edged', edged)\n",
    "\n",
    "#     cv.waitKey(0)\n",
    "#     cv.destroyAllWindows()\n",
    "    \n",
    "#     (_, cnts, _) = cv.findContours(edged.copy(), cv.RETR_LIST, cv.CHAIN_APPROX_SIMPLE)\n",
    "    \n",
    "#     cnts = sorted(cnts, key = cv.contourArea, reverse = True)[:5]\n",
    "    \n",
    "    \n",
    "#     for c in cnts:\n",
    "#         peri = cv.arcLength(c, True)\n",
    "#         approx = cv.approxPolyDP(c, 0.02 * peri, True)\n",
    "        \n",
    "#         if len(approx) == 4:\n",
    "#             screenCnt = approx\n",
    "#             break\n",
    "            \n",
    "#     print(\"STEP 2: Find Contours of Paper\")\n",
    "#     cv.drawContours(image, [screenCnt], -1, (0, 255, 0), 2)\n",
    "#     cv.imshow('Outline', image)\n",
    "    \n",
    "#     cv.waitKey(0)\n",
    "#     cv.destroyAllWIndows()\n",
    "#     cv.waitKey(1)\n",
    "    \n",
    "#     rect = order_points(screenCnt, reshape(4, 2) / r)\n",
    "    \n",
    "#     (topLeft, topRight, bottomRight, bottomLeft) = rect\n",
    "    \n",
    "#     w1 = abs(bottomRight[0] - bottomLeft[0])\n",
    "#     w2 = abs(topRight[0] - topLeft[0])\n",
    "#     h1 = abs(topRight[0] - bottomRight[1])\n",
    "#     h2 = abs(topLeft[1] - bottomLeft[1])\n",
    "    \n",
    "#     maxWidth = max([w1, w2])\n",
    "#     maxHeight = max([h1, h2])\n",
    "    \n",
    "#     dst = np.float32([[0, 0], [maxWidhth-1, 0], [maxWidth-1], [maxHeight-1], [0. maxHeight-1]])\n",
    "    \n",
    "#     M = cv.getPerspectiveTransform(rect, dst)\n",
    "    \n",
    "#     warped = cv.warpPerspective(org, M, (maxWidth, maxHeight))\n",
    "    \n",
    "#     print(\"STEP 3: Apply perspective transform\")\n",
    "#     cv.imshow(\"Warped\", warped)\n",
    "    \n",
    "#     cv.waitKey(0)\n",
    "#     cv.destroyAllWindows()"
   ]
  },
  {
   "cell_type": "code",
   "execution_count": null,
   "id": "hourly-lending",
   "metadata": {},
   "outputs": [],
   "source": []
  }
 ],
 "metadata": {
  "kernelspec": {
   "display_name": "Python 3",
   "language": "python",
   "name": "python3"
  },
  "language_info": {
   "codemirror_mode": {
    "name": "ipython",
    "version": 3
   },
   "file_extension": ".py",
   "mimetype": "text/x-python",
   "name": "python",
   "nbconvert_exporter": "python",
   "pygments_lexer": "ipython3",
   "version": "3.8.8"
  }
 },
 "nbformat": 4,
 "nbformat_minor": 5
}
